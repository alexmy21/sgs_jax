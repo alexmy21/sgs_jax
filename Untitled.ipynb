{
 "cells": [
  {
   "cell_type": "code",
   "execution_count": 1,
   "id": "09175fdf-a490-4bdd-91b9-f13bfeda7845",
   "metadata": {},
   "outputs": [
    {
     "name": "stdout",
     "output_type": "stream",
     "text": [
      "Notebook is valid\n"
     ]
    }
   ],
   "source": [
    "import nbformat\n",
    "from nbformat import validate, ValidationError\n",
    "\n",
    "with open('hllsets.ipynb') as f:\n",
    "    try:\n",
    "        nb = nbformat.read(f, as_version=4)\n",
    "        validate(nb)\n",
    "        print(\"Notebook is valid\")\n",
    "    except ValidationError as e:\n",
    "        print(f\"Notebook is invalid: {e}\")"
   ]
  },
  {
   "cell_type": "code",
   "execution_count": null,
   "id": "64dee4c3-48fd-447e-a98f-2cb1ea061ba3",
   "metadata": {},
   "outputs": [],
   "source": []
  }
 ],
 "metadata": {
  "kernelspec": {
   "display_name": ".venv",
   "language": "python",
   "name": "python3"
  },
  "language_info": {
   "codemirror_mode": {
    "name": "ipython",
    "version": 3
   },
   "file_extension": ".py",
   "mimetype": "text/x-python",
   "name": "python",
   "nbconvert_exporter": "python",
   "pygments_lexer": "ipython3",
   "version": "3.10.15"
  }
 },
 "nbformat": 4,
 "nbformat_minor": 5
}
