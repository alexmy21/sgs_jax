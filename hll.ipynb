{
 "cells": [
  {
   "cell_type": "code",
   "execution_count": 1,
   "metadata": {},
   "outputs": [
    {
     "ename": "TypeError",
     "evalue": "'_IndexUpdateHelper' object is not callable",
     "output_type": "error",
     "traceback": [
      "\u001b[0;31m---------------------------------------------------------------------------\u001b[0m",
      "\u001b[0;31mTypeError\u001b[0m                                 Traceback (most recent call last)",
      "Cell \u001b[0;32mIn[1], line 9\u001b[0m\n\u001b[1;32m      6\u001b[0m hll2 \u001b[38;5;241m=\u001b[39m HllSet(p\u001b[38;5;241m=\u001b[39m\u001b[38;5;241m4\u001b[39m)\n\u001b[1;32m      8\u001b[0m \u001b[38;5;66;03m# Add elements to the HllSets\u001b[39;00m\n\u001b[0;32m----> 9\u001b[0m \u001b[43mhll1\u001b[49m\u001b[38;5;241;43m.\u001b[39;49m\u001b[43madd\u001b[49m\u001b[43m(\u001b[49m\u001b[38;5;124;43m\"\u001b[39;49m\u001b[38;5;124;43melement1\u001b[39;49m\u001b[38;5;124;43m\"\u001b[39;49m\u001b[43m)\u001b[49m\n\u001b[1;32m     10\u001b[0m hll1\u001b[38;5;241m.\u001b[39madd(\u001b[38;5;124m\"\u001b[39m\u001b[38;5;124mmasha\u001b[39m\u001b[38;5;124m\"\u001b[39m)\n\u001b[1;32m     11\u001b[0m hll1\u001b[38;5;241m.\u001b[39madd(\u001b[38;5;124m\"\u001b[39m\u001b[38;5;124mdima\u001b[39m\u001b[38;5;124m\"\u001b[39m)\n",
      "File \u001b[0;32m~/SGS/sgs_jax/hll_set.py:28\u001b[0m, in \u001b[0;36mHllSet.add\u001b[0;34m(self, x, seed)\u001b[0m\n\u001b[1;32m     26\u001b[0m idx \u001b[38;5;241m=\u001b[39m \u001b[38;5;28mself\u001b[39m\u001b[38;5;241m.\u001b[39m_getzeros(h)\n\u001b[1;32m     27\u001b[0m \u001b[38;5;28;01mif\u001b[39;00m idx \u001b[38;5;241m<\u001b[39m\u001b[38;5;241m=\u001b[39m \u001b[38;5;241m32\u001b[39m:\n\u001b[0;32m---> 28\u001b[0m     \u001b[38;5;28mself\u001b[39m\u001b[38;5;241m.\u001b[39mcounts \u001b[38;5;241m=\u001b[39m \u001b[38;5;28;43mself\u001b[39;49m\u001b[38;5;241;43m.\u001b[39;49m\u001b[43mcounts\u001b[49m\u001b[38;5;241;43m.\u001b[39;49m\u001b[43mat\u001b[49m\u001b[43m(\u001b[49m\u001b[43mbin_idx\u001b[49m\u001b[43m)\u001b[49m\u001b[38;5;241m.\u001b[39mset(\u001b[38;5;28mself\u001b[39m\u001b[38;5;241m.\u001b[39mcounts[bin_idx] \u001b[38;5;241m|\u001b[39m (\u001b[38;5;241m1\u001b[39m \u001b[38;5;241m<<\u001b[39m (idx \u001b[38;5;241m-\u001b[39m \u001b[38;5;241m1\u001b[39m)))\n",
      "\u001b[0;31mTypeError\u001b[0m: '_IndexUpdateHelper' object is not callable"
     ]
    }
   ],
   "source": [
    "# Import the HllSet and HllSetAlgebra classes from hll_set.py\n",
    "from hll_set import HllSet # , HllSetAlgebra\n",
    "\n",
    "# Example usage\n",
    "hll1 = HllSet(p=4)\n",
    "hll2 = HllSet(p=4)\n",
    "\n",
    "# Add elements to the HllSets\n",
    "hll1.add(\"element1\")\n",
    "hll1.add(\"masha\")\n",
    "hll1.add(\"dima\")\n",
    "hll1.add(\"sashka\")\n",
    "hll1.add(\"jeka\")\n",
    "\n",
    "hll2.add(\"element2\")\n",
    "\n",
    "# # Perform union operation\n",
    "# union_register = HllSetAlgebra.union(hll1.register, hll2.register)\n",
    "\n",
    "# # Create a new HllSet for the union result\n",
    "# union_hll = HllSet(b=10)\n",
    "# union_hll.register = union_register\n",
    "\n",
    "# # Print the count of the union\n",
    "print(hll1.counts)\n",
    "print(hll2.counts)\n",
    "print(\"Union count:\", hll1.count())\n",
    "print(\"Union count:\", hll2.count())"
   ]
  },
  {
   "cell_type": "code",
   "execution_count": null,
   "metadata": {},
   "outputs": [],
   "source": [
    "bin(16)"
   ]
  },
  {
   "cell_type": "code",
   "execution_count": null,
   "metadata": {},
   "outputs": [],
   "source": [
    "hll1.register[578]"
   ]
  },
  {
   "cell_type": "code",
   "execution_count": null,
   "metadata": {},
   "outputs": [],
   "source": [
    "from constants import *\n",
    "\n",
    "# Example usage\n",
    "item = BIAS_ARRAYS[0][1]\n",
    "item"
   ]
  }
 ],
 "metadata": {
  "kernelspec": {
   "display_name": ".venv",
   "language": "python",
   "name": "python3"
  },
  "language_info": {
   "codemirror_mode": {
    "name": "ipython",
    "version": 3
   },
   "file_extension": ".py",
   "mimetype": "text/x-python",
   "name": "python",
   "nbconvert_exporter": "python",
   "pygments_lexer": "ipython3",
   "version": "3.12.6"
  }
 },
 "nbformat": 4,
 "nbformat_minor": 2
}
